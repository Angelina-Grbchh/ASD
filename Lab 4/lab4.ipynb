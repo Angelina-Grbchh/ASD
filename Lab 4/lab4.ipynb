{
 "cells": [
  {
   "cell_type": "markdown",
   "metadata": {},
   "source": [
    "Кільцева черга (на масиві)"
   ]
  },
  {
   "cell_type": "code",
   "execution_count": 12,
   "metadata": {},
   "outputs": [],
   "source": [
    "class CircularQueue:\n",
    "    def __init__(self, size):\n",
    "        self.queue = [None] * size\n",
    "        self.head = 0\n",
    "        self.tail = 0\n",
    "        self.size = size\n",
    "\n",
    "    def is_empty(self):\n",
    "        return self.head == self.tail\n",
    "\n",
    "    def is_full(self):\n",
    "        return (self.tail + 1) % self.size == self.head\n",
    "\n",
    "    def enqueue(self, x):\n",
    "        if self.is_full():\n",
    "            raise OverflowError(\"Черга переповнена\")\n",
    "        self.queue[self.tail] = x\n",
    "        self.tail = (self.tail + 1) % self.size\n",
    "\n",
    "    def dequeue(self):\n",
    "        if self.is_empty():\n",
    "            raise IndexError(\"Черга порожня\")\n",
    "        x = self.queue[self.head]\n",
    "        self.head = (self.head + 1) % self.size\n",
    "        return x\n",
    "\n",
    "    def display(self):\n",
    "        i = self.head\n",
    "        elements = []\n",
    "        while i != self.tail:\n",
    "            elements.append(self.queue[i])\n",
    "            i = (i + 1) % self.size\n",
    "        print(\"Черга:\", elements)\n",
    "\n",
    "\n",
    "\n",
    "\n",
    "    def display(self):\n",
    "        if self.is_empty():\n",
    "            print(\"Черга порожня\")\n",
    "            return\n",
    "\n",
    "        print(\"Черга з індексами:\")\n",
    "        i = self.head\n",
    "        while i != self.tail:\n",
    "            print(f\"  {i}: {self.queue[i]}\")\n",
    "            i = (i + 1) % self.size\n"
   ]
  },
  {
   "cell_type": "code",
   "execution_count": 14,
   "metadata": {},
   "outputs": [
    {
     "name": "stdout",
     "output_type": "stream",
     "text": [
      "1. Кільцева черга\n",
      "Черга (з індексами):\n",
      "  0: 10\n",
      "  1: 20\n",
      "  2: 30\n",
      "  3: 40\n",
      "  4: 70\n",
      "Видалено: 10\n",
      "Видалено: 20\n",
      "Видалено: 30\n",
      "Черга (з індексами):\n",
      "  3: 40\n",
      "  4: 70\n",
      "  5: 50\n",
      "  0: 60\n",
      "  1: 80\n"
     ]
    }
   ],
   "source": [
    "print(\"1. Кільцева черга\")\n",
    "cq = CircularQueue(6)  # n=6 → можна зберігати максимум 5 елементів\n",
    "cq.enqueue(10)\n",
    "cq.enqueue(20)\n",
    "cq.enqueue(30)\n",
    "cq.enqueue(40)\n",
    "cq.enqueue(70)\n",
    "\n",
    "cq.display()\n",
    "print(\"Видалено:\", cq.dequeue())\n",
    "cq.enqueue(50)\n",
    "print(\"Видалено:\", cq.dequeue())\n",
    "print(\"Видалено:\", cq.dequeue())\n",
    "cq.enqueue(60)\n",
    "cq.enqueue(80)\n",
    "\n",
    "cq.display()"
   ]
  },
  {
   "cell_type": "markdown",
   "metadata": {},
   "source": [
    "Черга на основі зв’язного списку"
   ]
  },
  {
   "cell_type": "code",
   "execution_count": 18,
   "metadata": {},
   "outputs": [],
   "source": [
    "class Node:\n",
    "    def __init__(self, value):\n",
    "        self.value = value\n",
    "        self.next = None\n",
    "\n",
    "class LinkedQueue:\n",
    "    def __init__(self):\n",
    "        self.head = None \n",
    "        self.tail = None  \n",
    "\n",
    "    def is_empty(self):\n",
    "        return self.head is None\n",
    "\n",
    "    def enqueue(self, x):\n",
    "        new_node = Node(x)\n",
    "        if self.tail is not None:\n",
    "            self.tail.next = new_node\n",
    "        self.tail = new_node\n",
    "        if self.head is None:\n",
    "            self.head = new_node\n",
    "\n",
    "    def dequeue(self):\n",
    "        if self.is_empty():\n",
    "            raise IndexError(\"Черга порожня\")\n",
    "        x = self.head.value\n",
    "        self.head = self.head.next\n",
    "        if self.head is None:\n",
    "            self.tail = None\n",
    "        return x\n",
    "\n",
    "    def display(self):\n",
    "        current = self.head\n",
    "        elements = []\n",
    "        while current:\n",
    "            elements.append(current.value)\n",
    "            current = current.next\n",
    "        print(\"Черга:\", elements)\n"
   ]
  },
  {
   "cell_type": "code",
   "execution_count": 19,
   "metadata": {},
   "outputs": [
    {
     "name": "stdout",
     "output_type": "stream",
     "text": [
      "\n",
      " 2.Черга (зв’язний список)\n",
      "Черга: [10, 20, 30]\n",
      "Видалено: 10\n",
      "Черга: [20, 30]\n"
     ]
    }
   ],
   "source": [
    "print(\"\\n 2.Черга (зв’язний список)\")\n",
    "lq = LinkedQueue()\n",
    "lq.enqueue(10)\n",
    "lq.enqueue(20)\n",
    "lq.enqueue(30)\n",
    "lq.display()\n",
    "print(\"Видалено:\", lq.dequeue())\n",
    "lq.display()"
   ]
  }
 ],
 "metadata": {
  "kernelspec": {
   "display_name": "Python 3",
   "language": "python",
   "name": "python3"
  },
  "language_info": {
   "codemirror_mode": {
    "name": "ipython",
    "version": 3
   },
   "file_extension": ".py",
   "mimetype": "text/x-python",
   "name": "python",
   "nbconvert_exporter": "python",
   "pygments_lexer": "ipython3",
   "version": "3.13.0"
  }
 },
 "nbformat": 4,
 "nbformat_minor": 2
}
