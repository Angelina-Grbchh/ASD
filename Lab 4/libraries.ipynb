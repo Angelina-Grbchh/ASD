{
 "cells": [
  {
   "cell_type": "markdown",
   "metadata": {},
   "source": [
    "### використання deque як черги"
   ]
  },
  {
   "cell_type": "code",
   "execution_count": 13,
   "metadata": {},
   "outputs": [],
   "source": [
    "from collections import deque"
   ]
  },
  {
   "cell_type": "code",
   "execution_count": 14,
   "metadata": {},
   "outputs": [
    {
     "name": "stdout",
     "output_type": "stream",
     "text": [
      "Черга: [60, 50, 20, 100]\n",
      "Видалено: 60\n",
      "Черга після видалення: [50, 20, 100]\n"
     ]
    }
   ],
   "source": [
    "queue = deque()\n",
    "\n",
    "queue.append(50)\n",
    "queue.append(20)\n",
    "queue.append(100)\n",
    "queue.appendleft(60)\n",
    "\n",
    "print(\"Черга:\", list(queue))\n",
    "\n",
    "print(\"Видалено:\", queue.popleft())\n",
    "\n",
    "print(\"Черга після видалення:\", list(queue))\n"
   ]
  },
  {
   "cell_type": "code",
   "execution_count": 15,
   "metadata": {},
   "outputs": [
    {
     "name": "stdout",
     "output_type": "stream",
     "text": [
      "Черга:\n",
      "  0: 60\n",
      "  1: 50\n",
      "  2: 20\n",
      "  3: 100\n",
      "\n",
      "Видалено: 60\n",
      "\n",
      "Черга після видалення:\n",
      "  0: 50\n",
      "  1: 20\n",
      "  2: 100\n"
     ]
    }
   ],
   "source": [
    "queue = deque()\n",
    "\n",
    "queue.append(50)\n",
    "queue.append(20)\n",
    "queue.append(100)\n",
    "queue.appendleft(60)\n",
    "\n",
    "print(\"Черга:\")\n",
    "for idx, value in enumerate(queue):\n",
    "    print(f\"  {idx}: {value}\")\n",
    "\n",
    "print(\"\\nВидалено:\", queue.popleft())\n",
    "\n",
    "print(\"\\nЧерга після видалення:\")\n",
    "for idx, value in enumerate(queue):\n",
    "    print(f\"  {idx}: {value}\")\n"
   ]
  },
  {
   "cell_type": "markdown",
   "metadata": {},
   "source": [
    "### використання deque як стеку"
   ]
  },
  {
   "cell_type": "code",
   "execution_count": 16,
   "metadata": {},
   "outputs": [
    {
     "name": "stdout",
     "output_type": "stream",
     "text": [
      "Стек: [50, 20, 100]\n",
      "Видалено: 100\n",
      "Стек після видалення: [50, 20]\n"
     ]
    }
   ],
   "source": [
    "stack = deque()\n",
    "\n",
    "stack.append(50)\n",
    "stack.append(20)\n",
    "stack.append(100)\n",
    "\n",
    "print(\"Стек:\", list(stack))\n",
    "\n",
    "print(\"Видалено:\", stack.pop())\n",
    "\n",
    "print(\"Стек після видалення:\", list(stack))\n"
   ]
  },
  {
   "cell_type": "code",
   "execution_count": 17,
   "metadata": {},
   "outputs": [
    {
     "name": "stdout",
     "output_type": "stream",
     "text": [
      "Стек:\n",
      "  0: 50\n",
      "  1: 20\n",
      "  2: 100\n",
      "\n",
      "Видалено: 100\n",
      "\n",
      "Стек після видалення:\n",
      "  0: 50\n",
      "  1: 20\n"
     ]
    }
   ],
   "source": [
    "stack = deque()\n",
    "\n",
    "stack.append(50)\n",
    "stack.append(20)\n",
    "stack.append(100)\n",
    "\n",
    "print(\"Стек:\")\n",
    "for idx, value in enumerate(stack):\n",
    "    print(f\"  {idx}: {value}\")\n",
    "\n",
    "print(\"\\nВидалено:\", stack.pop())\n",
    "\n",
    "print(\"\\nСтек після видалення:\")\n",
    "for idx, value in enumerate(stack):\n",
    "    print(f\"  {idx}: {value}\")\n"
   ]
  },
  {
   "cell_type": "markdown",
   "metadata": {},
   "source": [
    "<hr>"
   ]
  },
  {
   "cell_type": "markdown",
   "metadata": {},
   "source": [
    "### queue для черг"
   ]
  },
  {
   "cell_type": "code",
   "execution_count": 18,
   "metadata": {},
   "outputs": [
    {
     "name": "stdout",
     "output_type": "stream",
     "text": [
      "Розмір черги: 3\n",
      "Видалено: 50\n",
      "Видалено: 20\n",
      "Черга порожня? False\n"
     ]
    }
   ],
   "source": [
    "from queue import Queue\n",
    "\n",
    "q = Queue()\n",
    "\n",
    "q.put(50)\n",
    "q.put(20)\n",
    "q.put(100)\n",
    "\n",
    "print(\"Розмір черги:\", q.qsize())\n",
    "\n",
    "print(\"Видалено:\", q.get())\n",
    "print(\"Видалено:\", q.get())\n",
    "\n",
    "print(\"Черга порожня?\", q.empty())\n"
   ]
  },
  {
   "cell_type": "markdown",
   "metadata": {},
   "source": [
    "### queue для стеку"
   ]
  },
  {
   "cell_type": "code",
   "execution_count": 19,
   "metadata": {},
   "outputs": [
    {
     "name": "stdout",
     "output_type": "stream",
     "text": [
      "Видалено: 100\n",
      "Видалено: 20\n"
     ]
    }
   ],
   "source": [
    "from queue import LifoQueue\n",
    "\n",
    "stack = LifoQueue()\n",
    "\n",
    "stack.put(50)\n",
    "stack.put(20)\n",
    "stack.put(100)\n",
    "\n",
    "print(\"Видалено:\", stack.get())\n",
    "print(\"Видалено:\", stack.get())\n"
   ]
  }
 ],
 "metadata": {
  "kernelspec": {
   "display_name": "Python 3",
   "language": "python",
   "name": "python3"
  },
  "language_info": {
   "codemirror_mode": {
    "name": "ipython",
    "version": 3
   },
   "file_extension": ".py",
   "mimetype": "text/x-python",
   "name": "python",
   "nbconvert_exporter": "python",
   "pygments_lexer": "ipython3",
   "version": "3.13.0"
  }
 },
 "nbformat": 4,
 "nbformat_minor": 2
}
