{
 "cells": [
  {
   "cell_type": "code",
   "execution_count": 3,
   "metadata": {},
   "outputs": [],
   "source": [
    "import random\n",
    "import time"
   ]
  },
  {
   "cell_type": "code",
   "execution_count": 4,
   "metadata": {},
   "outputs": [
    {
     "name": "stdout",
     "output_type": "stream",
     "text": [
      "Результати сортування методом бульбашки:\n",
      "Розмір масиву  | Порівняння   | Обміни   | Час (сек)\n",
      "100            | 4830         | 2458     | 0.001549\n",
      "1000           | 497547       | 250621   | 0.091448\n",
      "10000          | 49983675     | 24828855 | 10.487329\n",
      "\n",
      "Масив на 100 елементів до сортування:\n",
      "[64, 18, 71, -11, -12, 96, 16, 54, 87, 95, 48, 88, 29, -68, -5, -35, -89, -52, -6, 94, 77, -8, -16, 39, 79, -12, 21, -35, 53, 46, 57, 14, -76, -19, -50, 59, -18, -36, 56, 19, 74, 26, 4, -22, -31, 29, 28, -1, 23, 74, 30, 64, 94, 65, -63, -28, 49, 7, -34, 41, -49, -2, -86, 42, -36, -87, -78, -74, 89, 1, 27, -23, -9, -31, -26, -62, 41, 41, -60, -29, 80, -50, 92, 7, 82, 75, 61, 96, 69, 26, 63, -21, 1, -70, -24, 62, -51, -7, 73, 75]\n",
      "\n",
      "Масив на 100 елементів після сортування:\n",
      "[-89, -87, -86, -78, -76, -74, -70, -68, -63, -62, -60, -52, -51, -50, -50, -49, -36, -36, -35, -35, -34, -31, -31, -29, -28, -26, -24, -23, -22, -21, -19, -18, -16, -12, -12, -11, -9, -8, -7, -6, -5, -2, -1, 1, 1, 4, 7, 7, 14, 16, 18, 19, 21, 23, 26, 26, 27, 28, 29, 29, 30, 39, 41, 41, 41, 42, 46, 48, 49, 53, 54, 56, 57, 59, 61, 62, 63, 64, 64, 65, 69, 71, 73, 74, 74, 75, 75, 77, 79, 80, 82, 87, 88, 89, 92, 94, 94, 95, 96, 96]\n"
     ]
    }
   ],
   "source": [
    "def bubble_sort(arr):\n",
    "    n = len(arr)\n",
    "    comparisons = 0\n",
    "    swaps = 0\n",
    "    \n",
    "    for i in range(n - 1):\n",
    "        swapped = False\n",
    "        for j in range(n - 1 - i):\n",
    "            comparisons += 1\n",
    "            if arr[j] > arr[j + 1]:\n",
    "                arr[j], arr[j + 1] = arr[j + 1], arr[j]\n",
    "                swaps += 1\n",
    "                swapped = True\n",
    "        if not swapped:\n",
    "            break\n",
    "    \n",
    "    return comparisons, swaps\n",
    "\n",
    "def generate_array(size, min_val=1, max_val=10000):\n",
    "    return [random.randint(min_val, max_val) for _ in range(size)]\n",
    "\n",
    "def measure_sorting(size):\n",
    "    arr = generate_array(size)\n",
    "    start_time = time.time()\n",
    "    comparisons, swaps = bubble_sort(arr)\n",
    "    end_time = time.time()\n",
    "    execution_time = end_time - start_time\n",
    "    return comparisons, swaps, execution_time\n",
    "\n",
    "sizes = [100, 1000, 10000]\n",
    "results = {}\n",
    "\n",
    "for size in sizes:\n",
    "    results[size] = measure_sorting(size)\n",
    "\n",
    "print(\"Результати сортування методом бульбашки:\")\n",
    "print(\"Розмір масиву  | Порівняння   | Обміни   | Час (сек)\")\n",
    "for size, (comparisons, swaps, elapsed_time) in results.items():\n",
    "    print(f\"{size:<14} | {comparisons:<12} | {swaps:<8} | {elapsed_time:.6f}\")\n",
    "\n",
    "array_100 = generate_array(100, -90, 100)\n",
    "print(\"\\nМасив на 100 елементів до сортування:\")\n",
    "print(array_100)\n",
    "\n",
    "bubble_sort(array_100)\n",
    "print(\"\\nМасив на 100 елементів після сортування:\")\n",
    "print(array_100)\n"
   ]
  },
  {
   "cell_type": "code",
   "execution_count": 5,
   "metadata": {},
   "outputs": [
    {
     "name": "stdout",
     "output_type": "stream",
     "text": [
      "Результати сортування методом Шелла:\n",
      "Розмір масиву  | Порівняння   | Обміни   | Час (сек)\n",
      "100            | 414          | 414      | 0.000256\n",
      "1000           | 6590         | 6590     | 0.003069\n",
      "10000          | 112822       | 112822   | 0.044049\n",
      "\n",
      "Масив на 100 елементів до сортування:\n",
      "[21, 79, -99, -13, 3, 48, -39, -53, 47, 44, -2, 86, -74, 45, -99, -89, 73, 5, -27, -8, 3, -87, -88, -57, 46, 8, 56, 15, -29, -17, -17, 28, -11, -78, -27, -42, 1, 35, -84, 35, -81, 50, -20, -33, 73, 58, -64, -86, 48, 8, -96, -72, 34, 6, -12, 4, 74, 46, -56, 29, 54, 18, -3, 71, -2, -89, -82, 7, 63, 71, -56, 90, -38, -10, -30, -56, 68, -2, -99, -18, 25, -44, -37, 33, 26, -84, -40, -43, 32, -10, 96, -74, -35, 4, -65, -84, -19, -63, 30, 1]\n",
      "\n",
      "Масив на 100 елементів після сортування:\n",
      "[-99, -99, -99, -96, -89, -89, -88, -87, -86, -84, -84, -84, -82, -81, -78, -74, -74, -72, -65, -64, -63, -57, -56, -56, -56, -53, -44, -43, -42, -40, -39, -38, -37, -35, -33, -30, -29, -27, -27, -20, -19, -18, -17, -17, -13, -12, -11, -10, -10, -8, -3, -2, -2, -2, 1, 1, 3, 3, 4, 4, 5, 6, 7, 8, 8, 15, 18, 21, 25, 26, 28, 29, 30, 32, 33, 34, 35, 35, 44, 45, 46, 46, 47, 48, 48, 50, 54, 56, 58, 63, 68, 71, 71, 73, 73, 74, 79, 86, 90, 96]\n"
     ]
    }
   ],
   "source": [
    "def generate_array(size, min_val=-99, max_val=100):\n",
    "    return [random.randint(min_val, max_val) for _ in range(size)]\n",
    "\n",
    "def shell_sort(arr):\n",
    "    n = len(arr)\n",
    "    gap = n // 2 \n",
    "    comparisons = 0\n",
    "    swaps = 0\n",
    "    \n",
    "    while gap > 0:\n",
    "        for i in range(gap, n):\n",
    "            temp = arr[i]\n",
    "            j = i\n",
    "            while j >= gap and arr[j - gap] > temp:\n",
    "                comparisons += 1 \n",
    "                arr[j] = arr[j - gap]\n",
    "                j -= gap\n",
    "                swaps += 1\n",
    "            arr[j] = temp\n",
    "        gap //= 2 \n",
    "    \n",
    "    return comparisons, swaps\n",
    "\n",
    "def measure_sorting(size):\n",
    "    arr = generate_array(size)\n",
    "    start_time = time.time()\n",
    "    comparisons, swaps = shell_sort(arr)\n",
    "    elapsed_time = time.time() - start_time\n",
    "    return comparisons, swaps, elapsed_time\n",
    "\n",
    "sizes = [100, 1000, 10000]\n",
    "results = {}\n",
    "for size in sizes:\n",
    "    results[size] = measure_sorting(size)\n",
    "\n",
    "print(\"Результати сортування методом Шелла:\")\n",
    "print(\"Розмір масиву  | Порівняння   | Обміни   | Час (сек)\")\n",
    "for size, (comparisons, swaps, elapsed_time) in results.items():\n",
    "    print(f\"{size:<14} | {comparisons:<12} | {swaps:<8} | {elapsed_time:.6f}\")\n",
    "\n",
    "array_100 = generate_array(100)\n",
    "print(\"\\nМасив на 100 елементів до сортування:\")\n",
    "print(array_100)\n",
    "\n",
    "shell_sort(array_100)\n",
    "print(\"\\nМасив на 100 елементів після сортування:\")\n",
    "print(array_100)\n"
   ]
  }
 ],
 "metadata": {
  "kernelspec": {
   "display_name": "Python 3",
   "language": "python",
   "name": "python3"
  },
  "language_info": {
   "codemirror_mode": {
    "name": "ipython",
    "version": 3
   },
   "file_extension": ".py",
   "mimetype": "text/x-python",
   "name": "python",
   "nbconvert_exporter": "python",
   "pygments_lexer": "ipython3",
   "version": "3.13.0"
  }
 },
 "nbformat": 4,
 "nbformat_minor": 2
}
