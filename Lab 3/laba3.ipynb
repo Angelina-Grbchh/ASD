{
 "cells": [
  {
   "cell_type": "markdown",
   "metadata": {},
   "source": [
    "Надрукувати всі слова, які починаються на літеру, відмінну від літери, з якої починається перше слово тексту. Перед  друком видалити зі слів всі літери ’a’ та ’b’."
   ]
  },
  {
   "cell_type": "markdown",
   "metadata": {},
   "source": [
    "Набори слів:\n",
    "1.cat apple banana apricot blueberry cherry.\n",
    "2.ocean river mountain valley desert tundra.\n",
    "3.sunflower tulip orchid lavender jasmine rose.\n",
    "4.galaxy nebula asteroid comet meteor planet."
   ]
  },
  {
   "cell_type": "markdown",
   "metadata": {},
   "source": [
    "Через динамічний масив"
   ]
  },
  {
   "cell_type": "code",
   "execution_count": 1,
   "metadata": {},
   "outputs": [],
   "source": [
    "import time"
   ]
  },
  {
   "cell_type": "code",
   "execution_count": 6,
   "metadata": {},
   "outputs": [
    {
     "name": "stdout",
     "output_type": "stream",
     "text": [
      "Вхідні дані: cat apple banana apricot blueberry cherry.\n",
      "Результат: pple nn pricot lueerry\n",
      "Час виконання: 0.0001158714 секунд\n"
     ]
    }
   ],
   "source": [
    "def process_text_array(text):\n",
    "    words = text[:-1].split()\n",
    "    if not words:\n",
    "        return \"Порожній ввід!\"\n",
    "    \n",
    "    first_letter = words[0][0] \n",
    "    filtered_words = [\n",
    "        word.replace('a', '').replace('b', '') \n",
    "        for word in words if word[0] != first_letter\n",
    "    ]\n",
    "    \n",
    "    return ' '.join(filtered_words)\n",
    "\n",
    "\n",
    "\n",
    "text = input(\"Введіть текст: \")\n",
    "\n",
    "start_time = time.time()\n",
    "result = process_text_array(text)\n",
    "execution_time = time.time() - start_time\n",
    "\n",
    "print(f\"Вхідні дані: {text}\")\n",
    "print(f\"Результат: {result}\")\n",
    "print(f\"Час виконання: {execution_time:.10f} секунд\")\n"
   ]
  },
  {
   "cell_type": "markdown",
   "metadata": {},
   "source": [
    "Через двозв’язний список"
   ]
  },
  {
   "cell_type": "code",
   "execution_count": 7,
   "metadata": {},
   "outputs": [
    {
     "name": "stdout",
     "output_type": "stream",
     "text": [
      "Вхідні дані: cat apple banana apricot blueberry cherry.\n",
      "Результат: pple nn pricot lueerry\n",
      "Час виконання: 0.0000116825 секунд\n"
     ]
    }
   ],
   "source": [
    "class Node:\n",
    "    def __init__(self, word):\n",
    "        self.word = word\n",
    "        self.next = None\n",
    "        self.prev = None  # Двозв’язний список: додаємо вказівник на попередній елемент\n",
    "\n",
    "class DoublyLinkedList:\n",
    "    def __init__(self):\n",
    "        self.head = None\n",
    "        self.tail = None  # Вказівник на останній елемент\n",
    "\n",
    "    def append(self, word):\n",
    "        new_node = Node(word)\n",
    "        if not self.head:\n",
    "            self.head = new_node\n",
    "            self.tail = new_node\n",
    "        else:\n",
    "            new_node.prev = self.tail  \n",
    "            self.tail.next = new_node \n",
    "            self.tail = new_node  \n",
    "\n",
    "    def process_and_print(self, first_letter):\n",
    "        current = self.head\n",
    "        result_words = []\n",
    "\n",
    "        while current:\n",
    "            if current.word[0] != first_letter:\n",
    "                processed_word = current.word.replace('a', '').replace('b', '')\n",
    "                result_words.append(processed_word)\n",
    "            current = current.next  \n",
    "\n",
    "        return ' '.join(result_words)\n",
    "\n",
    "\n",
    "\n",
    "\n",
    "text = input(\"Введіть текст: \")\n",
    "\n",
    "words = text[:-1].split()  \n",
    "if words:\n",
    "    first_letter = words[0][0]\n",
    "    linked_list = DoublyLinkedList()\n",
    "\n",
    "    for word in words:\n",
    "        linked_list.append(word)\n",
    "\n",
    "    start_time = time.time()\n",
    "    result = linked_list.process_and_print(first_letter)\n",
    "    execution_time = time.time() - start_time\n",
    "\n",
    "    print(f\"Вхідні дані: {text}\")\n",
    "    print(f\"Результат: {result}\")\n",
    "    print(f\"Час виконання: {execution_time:.10f} секунд\")\n",
    "else:\n",
    "    print(\"Порожній ввід!\")\n"
   ]
  }
 ],
 "metadata": {
  "kernelspec": {
   "display_name": "Python 3",
   "language": "python",
   "name": "python3"
  },
  "language_info": {
   "codemirror_mode": {
    "name": "ipython",
    "version": 3
   },
   "file_extension": ".py",
   "mimetype": "text/x-python",
   "name": "python",
   "nbconvert_exporter": "python",
   "pygments_lexer": "ipython3",
   "version": "3.13.0"
  }
 },
 "nbformat": 4,
 "nbformat_minor": 2
}
